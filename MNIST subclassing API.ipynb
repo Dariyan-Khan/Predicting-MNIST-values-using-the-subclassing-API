{
 "cells": [
  {
   "cell_type": "markdown",
   "metadata": {},
   "source": [
    "# Creating an MNIST classifier using TensorFlows subclassing API"
   ]
  },
  {
   "cell_type": "markdown",
   "metadata": {},
   "source": [
    "Different imports"
   ]
  },
  {
   "cell_type": "code",
   "execution_count": 16,
   "metadata": {},
   "outputs": [],
   "source": [
    "from keras.datasets import mnist\n",
    "import tensorflow as tf\n",
    "import numpy as np\n",
    "import matplotlib.pyplot as plt"
   ]
  },
  {
   "cell_type": "markdown",
   "metadata": {},
   "source": [
    "Normalise training values tto bbe between 0 and 1 and reshape training data (each image is 28x28)"
   ]
  },
  {
   "cell_type": "code",
   "execution_count": 37,
   "metadata": {},
   "outputs": [
    {
     "name": "stdout",
     "output_type": "stream",
     "text": [
      "(60000, 28, 28)\n",
      "(60000,)\n",
      "(5000, 28, 28)\n"
     ]
    }
   ],
   "source": [
    "(x_train, y_train), (x_test, y_test) = mnist.load_data()\n",
    "x_train=x_train/255.0\n",
    "x_test=x_test/255.0\n",
    "x_validation,x_test,y_validation,y_test=x_test[:5000],x_test[5000:],y_test[:5000],y_test[5000:]\n",
    "\n",
    "print(x_train.shape)\n",
    "print(y_train.shape)\n",
    "x_train=np.reshape(x_train,(-1,28,28))\n",
    "y_train=np.reshape(y_train,(-1,1))\n",
    "print(x_validation.shape)"
   ]
  },
  {
   "cell_type": "markdown",
   "metadata": {},
   "source": [
    "Create a wide and deep model (i.e. has two different branches that later converge) with the attributes defined below."
   ]
  },
  {
   "cell_type": "code",
   "execution_count": 2,
   "metadata": {},
   "outputs": [],
   "source": [
    "class WideAndDeepModel(tf.keras.Model):\n",
    "    def __init__(self,dropout_rate=0.2,units=300, activation='relu', **kwargs):\n",
    "            super().__init__(**kwargs)\n",
    "            self.flatten=tf.keras.layers.Flatten(input_shape=[28,28])\n",
    "            self.hidden1=tf.keras.layers.Dense(units=units, activation=activation)\n",
    "            self.hidden2=tf.keras.layers.Dense(units=units, activation=activation)\n",
    "            self.dropout=tf.keras.layers.Dropout(rate=dropout_rate)\n",
    "            self.main_output=tf.keras.layers.Dense(units=10, activation='softmax')\n",
    "            self.aux_output=tf.keras.layers.Dense(units=10, activation='softmax')\n",
    "    \n",
    "    def call(self,inputs):\n",
    "        input_A,input_B=inputs,inputs\n",
    "        input_A=self.flatten(input_A)\n",
    "        input_B=self.flatten(input_B)\n",
    "        input_A=input_A[:,:100]\n",
    "        input_B=input_B[:,100:]\n",
    "        hidden1=self.hidden1(input_B)\n",
    "        dropout_layer=self.dropout(hidden1)\n",
    "        hidden2=self.hidden2(dropout_layer)\n",
    "        concat=tf.keras.layers.concatenate([input_A,hidden2])\n",
    "        aux_output=self.aux_output(hidden2)\n",
    "        main_output=self.main_output(concat)\n",
    "        \n",
    "        return main_output,aux_output\n",
    "\n",
    "model=WideAndDeepModel()\n",
    "\n",
    "\n",
    "        "
   ]
  },
  {
   "cell_type": "markdown",
   "metadata": {},
   "source": [
    "Split x_train and x_validation into two sections, where each section gets sent to a different branch."
   ]
  },
  {
   "cell_type": "code",
   "execution_count": 38,
   "metadata": {},
   "outputs": [],
   "source": [
    "x_train_A,x_train_B=x_train[:1000,:,:],x_train[1000:,:,:]"
   ]
  },
  {
   "cell_type": "code",
   "execution_count": 39,
   "metadata": {},
   "outputs": [
    {
     "data": {
      "text/plain": [
       "array([[5],\n",
       "       [0],\n",
       "       [4],\n",
       "       ...,\n",
       "       [5],\n",
       "       [6],\n",
       "       [8]], dtype=uint8)"
      ]
     },
     "execution_count": 39,
     "metadata": {},
     "output_type": "execute_result"
    }
   ],
   "source": [
    "y_train"
   ]
  },
  {
   "cell_type": "code",
   "execution_count": 19,
   "metadata": {},
   "outputs": [],
   "source": [
    "x_validation_A,x_validation_B=x_validation[:200,:,:],x_validation[200:,:,:]"
   ]
  },
  {
   "cell_type": "code",
   "execution_count": 20,
   "metadata": {},
   "outputs": [],
   "source": [
    "model.compile(loss=\"sparse_categorical_crossentropy\", optimizer='adam', metrics = ['accuracy'])"
   ]
  },
  {
   "cell_type": "code",
   "execution_count": 25,
   "metadata": {},
   "outputs": [
    {
     "name": "stdout",
     "output_type": "stream",
     "text": [
      "The tensorboard extension is already loaded. To reload it, use:\n",
      "  %reload_ext tensorboard\n"
     ]
    }
   ],
   "source": [
    "%load_ext tensorboard"
   ]
  },
  {
   "cell_type": "code",
   "execution_count": 26,
   "metadata": {},
   "outputs": [
    {
     "data": {
      "text/plain": [
       "'2.6.0'"
      ]
     },
     "execution_count": 26,
     "metadata": {},
     "output_type": "execute_result"
    }
   ],
   "source": [
    "import tensorboard\n",
    "tensorboard.__version__"
   ]
  },
  {
   "cell_type": "code",
   "execution_count": 28,
   "metadata": {},
   "outputs": [],
   "source": [
    "from datetime import datetime\n",
    "logdir=\"logs/fit/\" + datetime.now().strftime(\"%Y%m%d-%H%M%S\")\n",
    "tensorboard_callback = tf.keras.callbacks.TensorBoard(log_dir=logdir)"
   ]
  },
  {
   "cell_type": "code",
   "execution_count": null,
   "metadata": {},
   "outputs": [],
   "source": []
  },
  {
   "cell_type": "code",
   "execution_count": null,
   "metadata": {},
   "outputs": [],
   "source": []
  },
  {
   "cell_type": "code",
   "execution_count": 29,
   "metadata": {},
   "outputs": [
    {
     "name": "stdout",
     "output_type": "stream",
     "text": [
      "Epoch 1/30\n",
      "1875/1875 [==============================] - 6s 3ms/step - loss: 0.0266 - output_1_loss: 0.0133 - output_2_loss: 0.0132 - output_1_accuracy: 0.9969 - output_2_accuracy: 0.9969 - val_loss: 0.4042 - val_output_1_loss: 0.2023 - val_output_2_loss: 0.2019 - val_output_1_accuracy: 0.9782 - val_output_2_accuracy: 0.9778\n",
      "Epoch 2/30\n",
      "1875/1875 [==============================] - 7s 3ms/step - loss: 0.0361 - output_1_loss: 0.0180 - output_2_loss: 0.0180 - output_1_accuracy: 0.9961 - output_2_accuracy: 0.9961 - val_loss: 0.3768 - val_output_1_loss: 0.1887 - val_output_2_loss: 0.1881 - val_output_1_accuracy: 0.9778 - val_output_2_accuracy: 0.9774\n",
      "Epoch 3/30\n",
      "1875/1875 [==============================] - 6s 3ms/step - loss: 0.0252 - output_1_loss: 0.0125 - output_2_loss: 0.0127 - output_1_accuracy: 0.9971 - output_2_accuracy: 0.9971 - val_loss: 0.4168 - val_output_1_loss: 0.2086 - val_output_2_loss: 0.2081 - val_output_1_accuracy: 0.9758 - val_output_2_accuracy: 0.9768\n",
      "Epoch 4/30\n",
      "1875/1875 [==============================] - 6s 3ms/step - loss: 0.0352 - output_1_loss: 0.0175 - output_2_loss: 0.0177 - output_1_accuracy: 0.9963 - output_2_accuracy: 0.9964 - val_loss: 0.4032 - val_output_1_loss: 0.2025 - val_output_2_loss: 0.2006 - val_output_1_accuracy: 0.9750 - val_output_2_accuracy: 0.9758\n",
      "Epoch 5/30\n",
      "1875/1875 [==============================] - 6s 3ms/step - loss: 0.0286 - output_1_loss: 0.0143 - output_2_loss: 0.0143 - output_1_accuracy: 0.9971 - output_2_accuracy: 0.9971 - val_loss: 0.3660 - val_output_1_loss: 0.1826 - val_output_2_loss: 0.1833 - val_output_1_accuracy: 0.9792 - val_output_2_accuracy: 0.9794\n",
      "Epoch 6/30\n",
      "1875/1875 [==============================] - 6s 3ms/step - loss: 0.0269 - output_1_loss: 0.0134 - output_2_loss: 0.0135 - output_1_accuracy: 0.9968 - output_2_accuracy: 0.9967 - val_loss: 0.4574 - val_output_1_loss: 0.2264 - val_output_2_loss: 0.2310 - val_output_1_accuracy: 0.9774 - val_output_2_accuracy: 0.9768\n",
      "Epoch 7/30\n",
      "1875/1875 [==============================] - 6s 3ms/step - loss: 0.0259 - output_1_loss: 0.0130 - output_2_loss: 0.0129 - output_1_accuracy: 0.9969 - output_2_accuracy: 0.9969 - val_loss: 0.4089 - val_output_1_loss: 0.2036 - val_output_2_loss: 0.2053 - val_output_1_accuracy: 0.9802 - val_output_2_accuracy: 0.9798\n",
      "Epoch 8/30\n",
      "1875/1875 [==============================] - 6s 3ms/step - loss: 0.0333 - output_1_loss: 0.0165 - output_2_loss: 0.0168 - output_1_accuracy: 0.9967 - output_2_accuracy: 0.9968 - val_loss: 0.4176 - val_output_1_loss: 0.2088 - val_output_2_loss: 0.2087 - val_output_1_accuracy: 0.9756 - val_output_2_accuracy: 0.9758\n",
      "Epoch 9/30\n",
      "1875/1875 [==============================] - 6s 3ms/step - loss: 0.0271 - output_1_loss: 0.0135 - output_2_loss: 0.0136 - output_1_accuracy: 0.9968 - output_2_accuracy: 0.9969 - val_loss: 0.4180 - val_output_1_loss: 0.2088 - val_output_2_loss: 0.2092 - val_output_1_accuracy: 0.9796 - val_output_2_accuracy: 0.9794\n",
      "Epoch 10/30\n",
      "1875/1875 [==============================] - 6s 3ms/step - loss: 0.0271 - output_1_loss: 0.0134 - output_2_loss: 0.0137 - output_1_accuracy: 0.9972 - output_2_accuracy: 0.9972 - val_loss: 0.4636 - val_output_1_loss: 0.2318 - val_output_2_loss: 0.2317 - val_output_1_accuracy: 0.9768 - val_output_2_accuracy: 0.9762\n",
      "Epoch 11/30\n",
      "1875/1875 [==============================] - 6s 3ms/step - loss: 0.0309 - output_1_loss: 0.0154 - output_2_loss: 0.0154 - output_1_accuracy: 0.9966 - output_2_accuracy: 0.9967 - val_loss: 0.4772 - val_output_1_loss: 0.2385 - val_output_2_loss: 0.2387 - val_output_1_accuracy: 0.9752 - val_output_2_accuracy: 0.9760\n",
      "Epoch 12/30\n",
      "1875/1875 [==============================] - 6s 3ms/step - loss: 0.0284 - output_1_loss: 0.0142 - output_2_loss: 0.0142 - output_1_accuracy: 0.9969 - output_2_accuracy: 0.9969 - val_loss: 0.4501 - val_output_1_loss: 0.2251 - val_output_2_loss: 0.2250 - val_output_1_accuracy: 0.9760 - val_output_2_accuracy: 0.9760\n",
      "Epoch 13/30\n",
      "1875/1875 [==============================] - 6s 3ms/step - loss: 0.0306 - output_1_loss: 0.0152 - output_2_loss: 0.0154 - output_1_accuracy: 0.9966 - output_2_accuracy: 0.9966 - val_loss: 0.5040 - val_output_1_loss: 0.2490 - val_output_2_loss: 0.2550 - val_output_1_accuracy: 0.9770 - val_output_2_accuracy: 0.9760\n",
      "Epoch 14/30\n",
      "1875/1875 [==============================] - 6s 3ms/step - loss: 0.0273 - output_1_loss: 0.0135 - output_2_loss: 0.0138 - output_1_accuracy: 0.9970 - output_2_accuracy: 0.9970 - val_loss: 0.5120 - val_output_1_loss: 0.2552 - val_output_2_loss: 0.2568 - val_output_1_accuracy: 0.9788 - val_output_2_accuracy: 0.9780\n",
      "Epoch 15/30\n",
      "1875/1875 [==============================] - 6s 3ms/step - loss: 0.0270 - output_1_loss: 0.0135 - output_2_loss: 0.0135 - output_1_accuracy: 0.9972 - output_2_accuracy: 0.9972 - val_loss: 0.4359 - val_output_1_loss: 0.2161 - val_output_2_loss: 0.2198 - val_output_1_accuracy: 0.9764 - val_output_2_accuracy: 0.9760\n",
      "Epoch 16/30\n",
      "1875/1875 [==============================] - 6s 3ms/step - loss: 0.0277 - output_1_loss: 0.0138 - output_2_loss: 0.0139 - output_1_accuracy: 0.9967 - output_2_accuracy: 0.9967 - val_loss: 0.5121 - val_output_1_loss: 0.2552 - val_output_2_loss: 0.2568 - val_output_1_accuracy: 0.9764 - val_output_2_accuracy: 0.9766\n",
      "Epoch 17/30\n",
      "1875/1875 [==============================] - 6s 3ms/step - loss: 0.0298 - output_1_loss: 0.0149 - output_2_loss: 0.0149 - output_1_accuracy: 0.9970 - output_2_accuracy: 0.9970 - val_loss: 0.5235 - val_output_1_loss: 0.2612 - val_output_2_loss: 0.2622 - val_output_1_accuracy: 0.9754 - val_output_2_accuracy: 0.9754\n",
      "Epoch 18/30\n",
      "1875/1875 [==============================] - 6s 3ms/step - loss: 0.0308 - output_1_loss: 0.0153 - output_2_loss: 0.0155 - output_1_accuracy: 0.9968 - output_2_accuracy: 0.9967 - val_loss: 0.4783 - val_output_1_loss: 0.2380 - val_output_2_loss: 0.2402 - val_output_1_accuracy: 0.9796 - val_output_2_accuracy: 0.9788\n",
      "Epoch 19/30\n",
      "1875/1875 [==============================] - 6s 3ms/step - loss: 0.0280 - output_1_loss: 0.0138 - output_2_loss: 0.0142 - output_1_accuracy: 0.9971 - output_2_accuracy: 0.9970 - val_loss: 0.4868 - val_output_1_loss: 0.2400 - val_output_2_loss: 0.2468 - val_output_1_accuracy: 0.9780 - val_output_2_accuracy: 0.9780\n",
      "Epoch 20/30\n",
      "1875/1875 [==============================] - 6s 3ms/step - loss: 0.0332 - output_1_loss: 0.0166 - output_2_loss: 0.0166 - output_1_accuracy: 0.9965 - output_2_accuracy: 0.9965 - val_loss: 0.5402 - val_output_1_loss: 0.2668 - val_output_2_loss: 0.2734 - val_output_1_accuracy: 0.9758 - val_output_2_accuracy: 0.9756\n",
      "Epoch 21/30\n",
      "1875/1875 [==============================] - 6s 3ms/step - loss: 0.0303 - output_1_loss: 0.0151 - output_2_loss: 0.0153 - output_1_accuracy: 0.9968 - output_2_accuracy: 0.9969 - val_loss: 0.4503 - val_output_1_loss: 0.2237 - val_output_2_loss: 0.2265 - val_output_1_accuracy: 0.9782 - val_output_2_accuracy: 0.9774\n",
      "Epoch 22/30\n",
      "1875/1875 [==============================] - 6s 3ms/step - loss: 0.0303 - output_1_loss: 0.0150 - output_2_loss: 0.0153 - output_1_accuracy: 0.9971 - output_2_accuracy: 0.9970 - val_loss: 0.4538 - val_output_1_loss: 0.2283 - val_output_2_loss: 0.2255 - val_output_1_accuracy: 0.9792 - val_output_2_accuracy: 0.9792\n",
      "Epoch 23/30\n",
      "1875/1875 [==============================] - 6s 3ms/step - loss: 0.0335 - output_1_loss: 0.0166 - output_2_loss: 0.0168 - output_1_accuracy: 0.9969 - output_2_accuracy: 0.9967 - val_loss: 0.5176 - val_output_1_loss: 0.2597 - val_output_2_loss: 0.2579 - val_output_1_accuracy: 0.9768 - val_output_2_accuracy: 0.9766\n",
      "Epoch 24/30\n",
      "1875/1875 [==============================] - 6s 3ms/step - loss: 0.0301 - output_1_loss: 0.0151 - output_2_loss: 0.0150 - output_1_accuracy: 0.9972 - output_2_accuracy: 0.9972 - val_loss: 0.5329 - val_output_1_loss: 0.2638 - val_output_2_loss: 0.2691 - val_output_1_accuracy: 0.9748 - val_output_2_accuracy: 0.9750\n",
      "Epoch 25/30\n",
      "1875/1875 [==============================] - 6s 3ms/step - loss: 0.0272 - output_1_loss: 0.0135 - output_2_loss: 0.0137 - output_1_accuracy: 0.9975 - output_2_accuracy: 0.9975 - val_loss: 0.5201 - val_output_1_loss: 0.2560 - val_output_2_loss: 0.2641 - val_output_1_accuracy: 0.9772 - val_output_2_accuracy: 0.9768\n",
      "Epoch 26/30\n"
     ]
    },
    {
     "name": "stdout",
     "output_type": "stream",
     "text": [
      "1875/1875 [==============================] - 6s 3ms/step - loss: 0.0256 - output_1_loss: 0.0127 - output_2_loss: 0.0129 - output_1_accuracy: 0.9976 - output_2_accuracy: 0.9977 - val_loss: 0.6189 - val_output_1_loss: 0.3056 - val_output_2_loss: 0.3133 - val_output_1_accuracy: 0.9760 - val_output_2_accuracy: 0.9748\n",
      "Epoch 27/30\n",
      "1875/1875 [==============================] - 6s 3ms/step - loss: 0.0335 - output_1_loss: 0.0168 - output_2_loss: 0.0166 - output_1_accuracy: 0.9967 - output_2_accuracy: 0.9969 - val_loss: 0.5846 - val_output_1_loss: 0.2883 - val_output_2_loss: 0.2963 - val_output_1_accuracy: 0.9770 - val_output_2_accuracy: 0.9772\n",
      "Epoch 28/30\n",
      "1875/1875 [==============================] - 6s 3ms/step - loss: 0.0301 - output_1_loss: 0.0150 - output_2_loss: 0.0151 - output_1_accuracy: 0.9974 - output_2_accuracy: 0.9975 - val_loss: 0.5931 - val_output_1_loss: 0.2957 - val_output_2_loss: 0.2974 - val_output_1_accuracy: 0.9744 - val_output_2_accuracy: 0.9748\n",
      "Epoch 29/30\n",
      "1875/1875 [==============================] - 6s 3ms/step - loss: 0.0338 - output_1_loss: 0.0167 - output_2_loss: 0.0171 - output_1_accuracy: 0.9970 - output_2_accuracy: 0.9971 - val_loss: 0.6175 - val_output_1_loss: 0.3060 - val_output_2_loss: 0.3115 - val_output_1_accuracy: 0.9748 - val_output_2_accuracy: 0.9754\n",
      "Epoch 30/30\n",
      "1875/1875 [==============================] - 6s 3ms/step - loss: 0.0273 - output_1_loss: 0.0134 - output_2_loss: 0.0139 - output_1_accuracy: 0.9974 - output_2_accuracy: 0.9974 - val_loss: 0.6212 - val_output_1_loss: 0.3107 - val_output_2_loss: 0.3104 - val_output_1_accuracy: 0.9724 - val_output_2_accuracy: 0.9726\n"
     ]
    }
   ],
   "source": [
    "history=model.fit(x_train,y_train,epochs=30,batch_size=32,\n",
    "                  validation_data=(x_validation,y_validation),\n",
    "                  callbacks=[tensorboard_callback])\n"
   ]
  },
  {
   "cell_type": "code",
   "execution_count": 36,
   "metadata": {},
   "outputs": [
    {
     "data": {
      "text/html": [
       "\n",
       "      <iframe id=\"tensorboard-frame-7872edd1c2754051\" width=\"100%\" height=\"800\" frameborder=\"0\">\n",
       "      </iframe>\n",
       "      <script>\n",
       "        (function() {\n",
       "          const frame = document.getElementById(\"tensorboard-frame-7872edd1c2754051\");\n",
       "          const url = new URL(\"/\", window.location);\n",
       "          const port = 6006;\n",
       "          if (port) {\n",
       "            url.port = port;\n",
       "          }\n",
       "          frame.src = url;\n",
       "        })();\n",
       "      </script>\n",
       "    "
      ],
      "text/plain": [
       "<IPython.core.display.HTML object>"
      ]
     },
     "metadata": {},
     "output_type": "display_data"
    }
   ],
   "source": [
    "%tensorboard --logdir logs"
   ]
  },
  {
   "cell_type": "markdown",
   "metadata": {},
   "source": [
    "Summary of the model"
   ]
  },
  {
   "cell_type": "code",
   "execution_count": 35,
   "metadata": {},
   "outputs": [
    {
     "name": "stdout",
     "output_type": "stream",
     "text": [
      "Model: \"wide_and_deep_model\"\n",
      "_________________________________________________________________\n",
      "Layer (type)                 Output Shape              Param #   \n",
      "=================================================================\n",
      "flatten (Flatten)            multiple                  0         \n",
      "_________________________________________________________________\n",
      "dense (Dense)                multiple                  205500    \n",
      "_________________________________________________________________\n",
      "dense_1 (Dense)              multiple                  90300     \n",
      "_________________________________________________________________\n",
      "dropout (Dropout)            multiple                  0         \n",
      "_________________________________________________________________\n",
      "dense_2 (Dense)              multiple                  4010      \n",
      "_________________________________________________________________\n",
      "dense_3 (Dense)              multiple                  3010      \n",
      "=================================================================\n",
      "Total params: 302,820\n",
      "Trainable params: 302,820\n",
      "Non-trainable params: 0\n",
      "_________________________________________________________________\n",
      "None\n"
     ]
    }
   ],
   "source": [
    "print(model.summary())"
   ]
  },
  {
   "cell_type": "code",
   "execution_count": 9,
   "metadata": {},
   "outputs": [
    {
     "name": "stdout",
     "output_type": "stream",
     "text": [
      "(28, 28)\n"
     ]
    }
   ],
   "source": [
    "print(x_test[0].shape)"
   ]
  },
  {
   "cell_type": "markdown",
   "metadata": {},
   "source": [
    "Use model to predict the x_test numbers and inspect the first prerdiction"
   ]
  },
  {
   "cell_type": "code",
   "execution_count": 40,
   "metadata": {},
   "outputs": [],
   "source": [
    "prediction=model.predict(x_test)"
   ]
  },
  {
   "cell_type": "code",
   "execution_count": 41,
   "metadata": {},
   "outputs": [
    {
     "name": "stdout",
     "output_type": "stream",
     "text": [
      "[0.0000000e+00 0.0000000e+00 1.4097000e-21 1.0000000e+00 0.0000000e+00\n",
      " 8.1794206e-27 0.0000000e+00 6.7241104e-32 1.2323810e-19 1.1636637e-37]\n"
     ]
    }
   ],
   "source": [
    "print(prediction[0][0])"
   ]
  },
  {
   "cell_type": "code",
   "execution_count": 42,
   "metadata": {},
   "outputs": [
    {
     "name": "stdout",
     "output_type": "stream",
     "text": [
      "3\n"
     ]
    }
   ],
   "source": [
    "import numpy as np\n",
    "\n",
    "max_index=np.argmax(prediction[0][0])\n",
    "print(max_index)"
   ]
  },
  {
   "cell_type": "code",
   "execution_count": 43,
   "metadata": {},
   "outputs": [
    {
     "data": {
      "image/png": "[encoded data removed]",
      "text/plain": [
       "<Figure size 432x288 with 1 Axes>"
      ]
     },
     "metadata": {
      "needs_background": "light"
     },
     "output_type": "display_data"
    }
   ],
   "source": [
    "%matplotlib inline\n",
    "import matplotlib.pyplot as plt\n",
    "image = np.asarray(x_test[0])\n",
    "plt.imshow(image)\n",
    "plt.show()\n"
   ]
  },
  {
   "cell_type": "markdown",
   "metadata": {},
   "source": [
    "We can see that the prediction was correct."
   ]
  },
  {
   "cell_type": "code",
   "execution_count": null,
   "metadata": {},
   "outputs": [],
   "source": []
  }
 ],
 "metadata": {
  "kernelspec": {
   "display_name": "Python 3",
   "language": "python",
   "name": "python3"
  },
  "language_info": {
   "codemirror_mode": {
    "name": "ipython",
    "version": 3
   },
   "file_extension": ".py",
   "mimetype": "text/x-python",
   "name": "python",
   "nbconvert_exporter": "python",
   "pygments_lexer": "ipython3",
   "version": "3.8.8"
  }
 },
 "nbformat": 4,
 "nbformat_minor": 2
}
